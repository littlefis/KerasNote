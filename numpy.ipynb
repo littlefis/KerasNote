{
 "cells": [
  {
   "cell_type": "markdown",
   "metadata": {},
   "source": [
    "# numpy ndarray 对象"
   ]
  },
  {
   "cell_type": "markdown",
   "metadata": {},
   "source": [
    "ndarray是用于存放同类型元素的多维数组，下标以0为开始。\n",
    "```python\n",
    "numpy.array(object, dtype = None, copy = True, order = None, subok = False, ndmin = 0)\n",
    "```\n",
    "object\t数组或嵌套的数列\n",
    "dtype\t数组元素的数据类型，可选\n",
    "copy\t对象是否需要复制，可选\n",
    "order\t创建数组的样式，C为行方向，F为列方向，A为任意方向（默认）\n",
    "subok\t默认返回一个与基类类型一致的数组\n",
    "ndmin\t指定生成数组的最小维度"
   ]
  },
  {
   "cell_type": "code",
   "execution_count": 1,
   "metadata": {},
   "outputs": [
    {
     "name": "stdout",
     "output_type": "stream",
     "text": [
      "[1 2 3]\n"
     ]
    }
   ],
   "source": [
    "import numpy as np\n",
    "a = np.array([1, 2, 3])\n",
    "print(a)"
   ]
  },
  {
   "cell_type": "code",
   "execution_count": 3,
   "metadata": {},
   "outputs": [
    {
     "name": "stdout",
     "output_type": "stream",
     "text": [
      "[[1 2]\n",
      " [3 4]]\n"
     ]
    }
   ],
   "source": [
    "import numpy as np\n",
    "a = np.array([[1, 2], [3, 4]])\n",
    "print(a)"
   ]
  },
  {
   "cell_type": "code",
   "execution_count": 4,
   "metadata": {},
   "outputs": [
    {
     "name": "stdout",
     "output_type": "stream",
     "text": [
      "[[1 2 3]]\n"
     ]
    }
   ],
   "source": [
    "# ndmin\n",
    "import numpy as np\n",
    "a = np.array([1, 2, 3], ndmin = 2)\n",
    "print(a)"
   ]
  },
  {
   "cell_type": "code",
   "execution_count": 5,
   "metadata": {},
   "outputs": [
    {
     "name": "stdout",
     "output_type": "stream",
     "text": [
      "[ 1.+0.j  2.+0.j  3.+0.j]\n"
     ]
    }
   ],
   "source": [
    "# dtype\n",
    "import numpy as np\n",
    "a = np.array([1, 2, 3], dtype = complex)\n",
    "print(a)"
   ]
  },
  {
   "cell_type": "markdown",
   "metadata": {},
   "source": [
    "# numpy 数据类型"
   ]
  },
  {
   "cell_type": "raw",
   "metadata": {},
   "source": [
    "bool_\t布尔型数据类型（True 或者 False）\n",
    "int_\t默认的整数类型（类似于 C 语言中的 long，int32 或 int64）\n",
    "intc\t与 C 的 int 类型一样，一般是 int32 或 int 64\n",
    "intp\t用于索引的整数类型（类似于 C 的 ssize_t，一般情况下仍然是 int32 或 int64）\n",
    "int8\t字节（-128 to 127）\n",
    "int16\t整数（-32768 to 32767）\n",
    "int32\t整数（-2147483648 to 2147483647）\n",
    "int64\t整数（-9223372036854775808 to 9223372036854775807）\n",
    "uint8\t无符号整数（0 to 255）\n",
    "uint16\t无符号整数（0 to 65535）\n",
    "uint32\t无符号整数（0 to 4294967295）\n",
    "uint64\t无符号整数（0 to 18446744073709551615）\n",
    "float_\tfloat64 类型的简写\n",
    "float16\t半精度浮点数，包括：1 个符号位，5 个指数位，10 个尾数位\n",
    "float32\t单精度浮点数，包括：1 个符号位，8 个指数位，23 个尾数位\n",
    "float64\t双精度浮点数，包括：1 个符号位，11 个指数位，52 个尾数位\n",
    "complex_\tcomplex128 类型的简写，即 128 位复数\n",
    "complex64\t复数，表示双 32 位浮点数（实数部分和虚数部分）\n",
    "complex128\t复数，表示双 64 位浮点数（实数部分和虚数部分）\n",
    "numpy 的数值类型实际上是 dtype 对象的实例，并对应唯一的字符，包括 np.bool_，np.int32，np.float32，等等。"
   ]
  },
  {
   "cell_type": "markdown",
   "metadata": {},
   "source": [
    "# numpy 数组属性"
   ]
  },
  {
   "cell_type": "raw",
   "metadata": {},
   "source": [
    "数组维数为秩，每个线性数组称为一个轴，即维度，例如二维数组是两个一位数组，其中第一个一维数组的每个元素均为一个一维数组。第一个轴是底层数组，第二个轴是底层数组里的数组。\n",
    "通过声明axis可以指定轴，axis=0表示沿着第0轴，即对列进行操作，axis=1表示沿着第1轴，即对行进行操作。\n",
    "常见属性：\n",
    "ndarray.ndim\t秩，即轴的数量或维度的数量\n",
    "ndarray.shape\t数组的维度，对于矩阵，n 行 m 列\n",
    "ndarray.size\t数组元素的总个数，相当于 .shape 中 n*m 的值\n",
    "ndarray.dtype\tndarray 对象的元素类型\n",
    "ndarray.itemsize\tndarray 对象中每个元素的大小，以字节为单位\n",
    "ndarray.flags\tndarray 对象的内存信息\n",
    "ndarray.real\tndarray元素的实部\n",
    "ndarray.imag\tndarray 元素的虚部\n",
    "ndarray.data\t包含实际数组元素的缓冲区，由于一般通过数组的索引获取元素，所以通常不需要使用这个属性。"
   ]
  },
  {
   "cell_type": "code",
   "execution_count": 7,
   "metadata": {},
   "outputs": [
    {
     "name": "stdout",
     "output_type": "stream",
     "text": [
      "1\n",
      "3\n"
     ]
    }
   ],
   "source": [
    "# ndim\n",
    "import numpy as np\n",
    "a = np.arange(24)\n",
    "print(a.ndim)\n",
    "a = a.reshape(2, 4, 3)\n",
    "print(a.ndim)"
   ]
  },
  {
   "cell_type": "code",
   "execution_count": null,
   "metadata": {
    "collapsed": true
   },
   "outputs": [],
   "source": []
  }
 ],
 "metadata": {
  "kernelspec": {
   "display_name": "Python 3",
   "language": "python",
   "name": "python3"
  },
  "language_info": {
   "codemirror_mode": {
    "name": "ipython",
    "version": 3
   },
   "file_extension": ".py",
   "mimetype": "text/x-python",
   "name": "python",
   "nbconvert_exporter": "python",
   "pygments_lexer": "ipython3",
   "version": "3.6.3"
  }
 },
 "nbformat": 4,
 "nbformat_minor": 2
}
