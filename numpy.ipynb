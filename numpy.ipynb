{
 "cells": [
  {
   "cell_type": "markdown",
   "metadata": {},
   "source": [
    "# numpy ndarray 对象"
   ]
  },
  {
   "cell_type": "markdown",
   "metadata": {},
   "source": [
    "ndarray是用于存放同类型元素的多维数组，下标以0为开始。\n",
    "```python\n",
    "numpy.array(object, dtype = None, copy = True, order = None, subok = False, ndmin = 0)\n",
    "```\n",
    "object\t数组或嵌套的数列\n",
    "dtype\t数组元素的数据类型，可选\n",
    "copy\t对象是否需要复制，可选\n",
    "order\t创建数组的样式，C为行方向，F为列方向，A为任意方向（默认）\n",
    "subok\t默认返回一个与基类类型一致的数组\n",
    "ndmin\t指定生成数组的最小维度"
   ]
  },
  {
   "cell_type": "code",
   "execution_count": 1,
   "metadata": {},
   "outputs": [
    {
     "name": "stdout",
     "output_type": "stream",
     "text": [
      "[1 2 3]\n"
     ]
    }
   ],
   "source": [
    "import numpy as np\n",
    "a = np.array([1, 2, 3])\n",
    "print(a)"
   ]
  },
  {
   "cell_type": "code",
   "execution_count": 2,
   "metadata": {},
   "outputs": [
    {
     "name": "stdout",
     "output_type": "stream",
     "text": [
      "[[1 2]\n",
      " [3 4]]\n"
     ]
    }
   ],
   "source": [
    "import numpy as np\n",
    "a = np.array([[1, 2], [3, 4]])\n",
    "print(a)"
   ]
  },
  {
   "cell_type": "code",
   "execution_count": 3,
   "metadata": {},
   "outputs": [
    {
     "name": "stdout",
     "output_type": "stream",
     "text": [
      "[[1 2 3]]\n"
     ]
    }
   ],
   "source": [
    "# ndmin\n",
    "import numpy as np\n",
    "a = np.array([1, 2, 3], ndmin = 2)\n",
    "print(a)"
   ]
  },
  {
   "cell_type": "code",
   "execution_count": 4,
   "metadata": {},
   "outputs": [
    {
     "name": "stdout",
     "output_type": "stream",
     "text": [
      "[1.+0.j 2.+0.j 3.+0.j]\n"
     ]
    }
   ],
   "source": [
    "# dtype\n",
    "import numpy as np\n",
    "a = np.array([1, 2, 3], dtype = complex)\n",
    "print(a)"
   ]
  },
  {
   "cell_type": "markdown",
   "metadata": {},
   "source": [
    "# numpy 数据类型"
   ]
  },
  {
   "cell_type": "raw",
   "metadata": {},
   "source": [
    "bool_\t布尔型数据类型（True 或者 False）\n",
    "int_\t默认的整数类型（类似于 C 语言中的 long，int32 或 int64）\n",
    "intc\t与 C 的 int 类型一样，一般是 int32 或 int 64\n",
    "intp\t用于索引的整数类型（类似于 C 的 ssize_t，一般情况下仍然是 int32 或 int64）\n",
    "int8\t字节（-128 to 127）\n",
    "int16\t整数（-32768 to 32767）\n",
    "int32\t整数（-2147483648 to 2147483647）\n",
    "int64\t整数（-9223372036854775808 to 9223372036854775807）\n",
    "uint8\t无符号整数（0 to 255）\n",
    "uint16\t无符号整数（0 to 65535）\n",
    "uint32\t无符号整数（0 to 4294967295）\n",
    "uint64\t无符号整数（0 to 18446744073709551615）\n",
    "float_\tfloat64 类型的简写\n",
    "float16\t半精度浮点数，包括：1 个符号位，5 个指数位，10 个尾数位\n",
    "float32\t单精度浮点数，包括：1 个符号位，8 个指数位，23 个尾数位\n",
    "float64\t双精度浮点数，包括：1 个符号位，11 个指数位，52 个尾数位\n",
    "complex_\tcomplex128 类型的简写，即 128 位复数\n",
    "complex64\t复数，表示双 32 位浮点数（实数部分和虚数部分）\n",
    "complex128\t复数，表示双 64 位浮点数（实数部分和虚数部分）\n",
    "numpy 的数值类型实际上是 dtype 对象的实例，并对应唯一的字符，包括 np.bool_，np.int32，np.float32，等等。"
   ]
  },
  {
   "cell_type": "raw",
   "metadata": {},
   "source": [
    "内建类型：\n",
    "b\t布尔型\n",
    "i\t(有符号) 整型\n",
    "u\t无符号整型 integer\n",
    "f\t浮点型\n",
    "c\t复数浮点型\n",
    "m\ttimedelta（时间间隔）\n",
    "M\tdatetime（日期时间）\n",
    "O\t(Python) 对象\n",
    "S, a\t(byte-)字符串\n",
    "U\tUnicode\n",
    "V\t原始数据 (void)"
   ]
  },
  {
   "cell_type": "markdown",
   "metadata": {},
   "source": [
    "# numpy 数组属性"
   ]
  },
  {
   "cell_type": "raw",
   "metadata": {},
   "source": [
    "数组维数为秩，每个线性数组称为一个轴，即维度，例如二维数组是两个一位数组，其中第一个一维数组的每个元素均为一个一维数组。第一个轴是底层数组，第二个轴是底层数组里的数组。\n",
    "通过声明axis可以指定轴，axis=0表示沿着第0轴，即对列进行操作，axis=1表示沿着第1轴，即对行进行操作。\n",
    "常见属性：\n",
    "ndarray.ndim\t秩，即轴的数量或维度的数量\n",
    "ndarray.shape\t数组的维度，对于矩阵，n 行 m 列\n",
    "ndarray.size\t数组元素的总个数，相当于 .shape 中 n*m 的值\n",
    "ndarray.dtype\tndarray 对象的元素类型\n",
    "ndarray.itemsize\tndarray 对象中每个元素的大小，以字节为单位\n",
    "ndarray.flags\tndarray 对象的内存信息\n",
    "ndarray.real\tndarray元素的实部\n",
    "ndarray.imag\tndarray 元素的虚部\n",
    "ndarray.data\t包含实际数组元素的缓冲区，由于一般通过数组的索引获取元素，所以通常不需要使用这个属性。"
   ]
  },
  {
   "cell_type": "code",
   "execution_count": 5,
   "metadata": {},
   "outputs": [
    {
     "name": "stdout",
     "output_type": "stream",
     "text": [
      "1\n",
      "3\n"
     ]
    }
   ],
   "source": [
    "# ndim\n",
    "# 返回数组的秩\n",
    "import numpy as np\n",
    "a = np.arange(24)\n",
    "print(a.ndim)\n",
    "a = a.reshape(2, 4, 3)\n",
    "print(a.ndim)"
   ]
  },
  {
   "cell_type": "code",
   "execution_count": 6,
   "metadata": {},
   "outputs": [
    {
     "name": "stdout",
     "output_type": "stream",
     "text": [
      "[[1 2 3]\n",
      " [4 5 6]]\n",
      "(2, 3) \n",
      "--------\n",
      "[[1 2]\n",
      " [3 4]\n",
      " [5 6]]\n",
      "(3, 2)\n"
     ]
    }
   ],
   "source": [
    "# shape\n",
    "# 返回元组，代表数组的形状\n",
    "import numpy as np\n",
    "a = np.array([[1, 2, 3], [4, 5, 6]])\n",
    "print(a)\n",
    "print(a.shape, '\\n--------')\n",
    "# shape属性可以用于调整数组形状，效果等同于reshape\n",
    "a.shape = (3, 2) #a = a.reshape(3, 2)\n",
    "print(a)\n",
    "print(a.shape)"
   ]
  },
  {
   "cell_type": "code",
   "execution_count": 7,
   "metadata": {},
   "outputs": [
    {
     "name": "stdout",
     "output_type": "stream",
     "text": [
      "1\n",
      "8\n"
     ]
    }
   ],
   "source": [
    "# itemsize\n",
    "# 以字节形式返回数组中每个元素的大小\n",
    "import numpy as np \n",
    "# 数组的 dtype 为 int8（一个字节）  \n",
    "x = np.array([1,2,3,4,5], dtype = np.int8)  \n",
    "print(x.itemsize)\n",
    "# 数组的 dtype 现在为 float64（八个字节） \n",
    "y = np.array([1,2,3,4,5], dtype = np.float64)  \n",
    "print(y.itemsize)"
   ]
  },
  {
   "cell_type": "code",
   "execution_count": 8,
   "metadata": {},
   "outputs": [],
   "source": [
    "# flags\n",
    "# 返回ndarray对象的内存信息"
   ]
  },
  {
   "cell_type": "raw",
   "metadata": {},
   "source": [
    "C_CONTIGUOUS (C)\t数据是在一个单一的C风格的连续段中\n",
    "F_CONTIGUOUS (F)\t数据是在一个单一的Fortran风格的连续段中\n",
    "OWNDATA (O)\t数组拥有它所使用的内存或从另一个对象中借用它\n",
    "WRITEABLE (W)\t数据区域可以被写入，将该值设置为 False，则数据为只读\n",
    "ALIGNED (A)\t数据和所有元素都适当地对齐到硬件上\n",
    "UPDATEIFCOPY (U)\t这个数组是其它数组的一个副本，当这个数组被释放时，原数组的内容将被更新"
   ]
  },
  {
   "cell_type": "code",
   "execution_count": 9,
   "metadata": {},
   "outputs": [
    {
     "name": "stdout",
     "output_type": "stream",
     "text": [
      "  C_CONTIGUOUS : True\n",
      "  F_CONTIGUOUS : True\n",
      "  OWNDATA : True\n",
      "  WRITEABLE : True\n",
      "  ALIGNED : True\n",
      "  WRITEBACKIFCOPY : False\n",
      "  UPDATEIFCOPY : False\n"
     ]
    }
   ],
   "source": [
    "import numpy as np \n",
    "x = np.array([1,2,3,4,5])  \n",
    "print (x.flags)"
   ]
  },
  {
   "cell_type": "markdown",
   "metadata": {},
   "source": [
    "# numpy 创建数组\n",
    "除底层ndarray构造器外，还可以通过以下几种方式来创建"
   ]
  },
  {
   "cell_type": "markdown",
   "metadata": {},
   "source": [
    "## empty\n",
    "创建指定形状、数据类型且未初始化的数组\n",
    "```python\n",
    "numpy.empty(shape, dtype = float, order = 'C')\n",
    "```\n",
    "- shape：数组形状\n",
    "- dtype：数据类型，可选\n",
    "- order：有\"C\"和\"F\"两个选项,分别代表，行优先和列优先，在计算机内存中的存储元素的顺序。"
   ]
  },
  {
   "cell_type": "code",
   "execution_count": 10,
   "metadata": {},
   "outputs": [
    {
     "name": "stdout",
     "output_type": "stream",
     "text": [
      "[[         0 1072693248]\n",
      " [         0 1073741824]\n",
      " [         0 1074266112]]\n"
     ]
    }
   ],
   "source": [
    "import numpy as np\n",
    "x = np.empty([3, 2], dtype = int)\n",
    "print(x)"
   ]
  },
  {
   "cell_type": "markdown",
   "metadata": {},
   "source": [
    "## zeros\n",
    "创建指定大小，全0数组\n",
    "```python\n",
    "numpy.zeros(shape, dtype = float, order = 'C')\n",
    "```"
   ]
  },
  {
   "cell_type": "code",
   "execution_count": 11,
   "metadata": {},
   "outputs": [
    {
     "name": "stdout",
     "output_type": "stream",
     "text": [
      "[0. 0. 0. 0. 0.]\n",
      "[0 0 0 0 0]\n",
      "[[(0, 0) (0, 0)]\n",
      " [(0, 0) (0, 0)]]\n"
     ]
    }
   ],
   "source": [
    "import numpy as np\n",
    " \n",
    "# 默认为浮点数\n",
    "x = np.zeros(5) \n",
    "print(x)\n",
    " \n",
    "# 设置类型为整数\n",
    "y = np.zeros((5,), dtype = np.int) \n",
    "print(y)\n",
    " \n",
    "# 自定义类型\n",
    "z = np.zeros((2,2), dtype = [('x', 'i4'), ('y', 'i4')])  \n",
    "print(z)"
   ]
  },
  {
   "cell_type": "markdown",
   "metadata": {},
   "source": [
    "## ones\n",
    "创建指定大小，全1数组\n",
    "```python\n",
    "numpy.ones(shape, dtype = None, order = 'C')\n",
    "```"
   ]
  },
  {
   "cell_type": "code",
   "execution_count": 12,
   "metadata": {},
   "outputs": [
    {
     "name": "stdout",
     "output_type": "stream",
     "text": [
      "[1. 1. 1. 1. 1.]\n",
      "[[1 1]\n",
      " [1 1]]\n"
     ]
    }
   ],
   "source": [
    "import numpy as np\n",
    " \n",
    "# 默认为浮点数\n",
    "x = np.ones(5) \n",
    "print(x)\n",
    " \n",
    "# 自定义类型\n",
    "x = np.ones([2,2], dtype = int)\n",
    "print(x)"
   ]
  },
  {
   "cell_type": "markdown",
   "metadata": {},
   "source": [
    "# 从已有数组创建数组"
   ]
  },
  {
   "cell_type": "markdown",
   "metadata": {},
   "source": [
    "## asarray\n",
    "```python\n",
    "numpy.asarray(a, dtype = None, order = None)\n",
    "```\n",
    "- a\t任意形式的输入参数，可以是，列表, 列表的元组, 元组, 元组的元组, 元组的列表，多维数组\n",
    "- dtype\t数据类型，可选\n",
    "- order\t可选，有\"C\"和\"F\"两个选项,分别代表，行优先和列优先，在计算机内存中的存储元素的顺序。"
   ]
  },
  {
   "cell_type": "code",
   "execution_count": 13,
   "metadata": {},
   "outputs": [
    {
     "name": "stdout",
     "output_type": "stream",
     "text": [
      "[1 2 3]\n"
     ]
    }
   ],
   "source": [
    "import numpy as np \n",
    "x =  [1,2,3] \n",
    "a = np.asarray(x)  \n",
    "print (a)"
   ]
  },
  {
   "cell_type": "code",
   "execution_count": 14,
   "metadata": {},
   "outputs": [
    {
     "name": "stdout",
     "output_type": "stream",
     "text": [
      "[(1, 2, 3) (4, 5)]\n"
     ]
    }
   ],
   "source": [
    "import numpy as np \n",
    "x =  [(1,2,3),(4,5)] \n",
    "a = np.asarray(x)  \n",
    "print (a)"
   ]
  },
  {
   "cell_type": "code",
   "execution_count": 15,
   "metadata": {},
   "outputs": [
    {
     "name": "stdout",
     "output_type": "stream",
     "text": [
      "[1. 2. 3.]\n"
     ]
    }
   ],
   "source": [
    "import numpy as np \n",
    "x =  [1,2,3] \n",
    "a = np.asarray(x, dtype =  float)  \n",
    "print (a)"
   ]
  },
  {
   "cell_type": "markdown",
   "metadata": {},
   "source": [
    "## frombuffer\n",
    "```python\n",
    "numpy.frombuffer(buffer, dtype = float, count = -1, offset = 0)\n",
    "```\n",
    "可实现动态数组，接收buffer输入参数，以流的形式读入转化成ndarray对象。\n",
    "- buffer\t可以是任意对象，会以流的形式读入。\n",
    "- dtype\t返回数组的数据类型，可选\n",
    "- count\t读取的数据数量，默认为-1，读取所有数据。\n",
    "- offset\t读取的起始位置，默认为0。\n",
    "##### 注意\n",
    "当buffer是字符串时，python3默认使用Unicode类型，要转化成bytestring在原字符串前加b"
   ]
  },
  {
   "cell_type": "code",
   "execution_count": 16,
   "metadata": {},
   "outputs": [
    {
     "name": "stdout",
     "output_type": "stream",
     "text": [
      "[b'H' b'e' b'l' b'l' b'o' b' ' b'W' b'o' b'r' b'l' b'd']\n"
     ]
    }
   ],
   "source": [
    "import numpy as np \n",
    "s =  b'Hello World' \n",
    "a = np.frombuffer(s, dtype =  'S1')  \n",
    "print (a)"
   ]
  },
  {
   "cell_type": "markdown",
   "metadata": {},
   "source": [
    "## fromiter\n",
    "```python\n",
    "numpy.fromiter(iterable, dtype, count=-1)\n",
    "```\n",
    "可从迭代对象中建立ndarray对象，返回一维数组。\n",
    "- iterable\t可迭代对象\n",
    "- dtype\t返回数组的数据类型\n",
    "- count\t读取的数据数量，默认为-1，读取所有数据"
   ]
  },
  {
   "cell_type": "code",
   "execution_count": 17,
   "metadata": {},
   "outputs": [
    {
     "name": "stdout",
     "output_type": "stream",
     "text": [
      "[0. 1. 2. 3. 4.]\n"
     ]
    }
   ],
   "source": [
    "import numpy as np \n",
    "# 使用 range 函数创建列表对象  \n",
    "list=range(5)\n",
    "it=iter(list)\n",
    "# 使用迭代器创建 ndarray \n",
    "x=np.fromiter(it, dtype=float)\n",
    "print(x)"
   ]
  },
  {
   "cell_type": "markdown",
   "metadata": {},
   "source": [
    "# 从数值范围创建数组"
   ]
  },
  {
   "cell_type": "markdown",
   "metadata": {},
   "source": [
    "## arange\n",
    "```python\n",
    "numpy.arange(start, stop, step, dtype)\n",
    "```\n",
    "- start\t起始值，默认为0\n",
    "- stop\t终止值（不包含）\n",
    "- step\t步长，默认为1\n",
    "- dtype\t返回ndarray的数据类型，如果没有提供，则会使用输入数据的类型。"
   ]
  },
  {
   "cell_type": "code",
   "execution_count": 18,
   "metadata": {},
   "outputs": [
    {
     "name": "stdout",
     "output_type": "stream",
     "text": [
      "[0 1 2 3 4]\n"
     ]
    }
   ],
   "source": [
    "import numpy as np\n",
    "x = np.arange(5)  \n",
    "print (x)"
   ]
  },
  {
   "cell_type": "code",
   "execution_count": 19,
   "metadata": {},
   "outputs": [
    {
     "name": "stdout",
     "output_type": "stream",
     "text": [
      "[10. 12. 14. 16. 18.]\n"
     ]
    }
   ],
   "source": [
    "import numpy as np\n",
    "x = np.arange(10,20,2, dtype =  float)  \n",
    "print (x)"
   ]
  },
  {
   "cell_type": "markdown",
   "metadata": {},
   "source": [
    "## linspace\n",
    "```\n",
    "np.linspace(start, stop, num=50, endpoint=True, retstep=False, dtype=None)\n",
    "```\n",
    "创建等差数列\n",
    "- start\t序列的起始值\n",
    "- stop\t序列的终止值，如果endpoint为true，该值包含于数列中\n",
    "- num\t要生成的等步长的样本数量，默认为50\n",
    "- endpoint\t该值为 ture 时，数列中中包含stop值，反之不包含，默认是True。\n",
    "- retstep\t如果为 True 时，生成的数组中会显示间距，反之不显示。\n",
    "- dtype\tndarray 的数据类型"
   ]
  },
  {
   "cell_type": "code",
   "execution_count": 20,
   "metadata": {},
   "outputs": [
    {
     "name": "stdout",
     "output_type": "stream",
     "text": [
      "[ 1.  2.  3.  4.  5.  6.  7.  8.  9. 10.]\n",
      "[1. 2. 3. 4. 5. 6. 7. 8. 9.]\n"
     ]
    }
   ],
   "source": [
    "import numpy as np\n",
    "a = np.linspace(1,10,10)\n",
    "print(a)\n",
    "a = np.linspace(1,10,9, endpoint =  False)  \n",
    "print(a)"
   ]
  },
  {
   "cell_type": "markdown",
   "metadata": {},
   "source": [
    "## logspace\n",
    "```\n",
    "np.logspace(start, stop, num=50, endpoint=True, base=10.0, dtype=None)\n",
    "```\n",
    "创建等比数列\n",
    "- start\t序列的起始值为：base ** start\n",
    "- stop\t序列的终止值为：base ** stop。如果endpoint为true，该值包含于数列中\n",
    "- num\t要生成的等步长的样本数量，默认为50\n",
    "- endpoint\t该值为 ture 时，数列中中包含stop值，反之不包含，默认是True。\n",
    "- base\t对数 log 的底数。\n",
    "- dtype\tndarray 的数据类型"
   ]
  },
  {
   "cell_type": "code",
   "execution_count": 21,
   "metadata": {},
   "outputs": [
    {
     "name": "stdout",
     "output_type": "stream",
     "text": [
      "[ 10.          12.91549665  16.68100537  21.5443469   27.82559402\n",
      "  35.93813664  46.41588834  59.94842503  77.42636827 100.        ]\n",
      "[  1.   2.   4.   8.  16.  32.  64. 128. 256. 512.]\n"
     ]
    }
   ],
   "source": [
    "import numpy as np\n",
    "# 默认底数是 10\n",
    "a = np.logspace(1.0,2.0,num = 10)  \n",
    "print (a)\n",
    "a = np.logspace(0,9,10,base=2)\n",
    "print (a)"
   ]
  },
  {
   "cell_type": "markdown",
   "metadata": {},
   "source": [
    "# 切片和索引"
   ]
  },
  {
   "cell_type": "markdown",
   "metadata": {},
   "source": [
    "ndarray数组可以基于0-n的下标进行索引，切片可使用内置slice函数"
   ]
  },
  {
   "cell_type": "code",
   "execution_count": 22,
   "metadata": {},
   "outputs": [
    {
     "name": "stdout",
     "output_type": "stream",
     "text": [
      "[2 4 6]\n",
      "[2 4 6]\n"
     ]
    }
   ],
   "source": [
    "import numpy as np\n",
    " \n",
    "a = np.arange(10)\n",
    "s = slice(2,7,2)   # 从索引 2 开始到索引 7 停止，间隔为2\n",
    "print (a[s])\n",
    "b = a[2:7:2]   # 从索引 2 开始到索引 7 停止，间隔为 2\n",
    "print(b)"
   ]
  },
  {
   "cell_type": "raw",
   "metadata": {},
   "source": [
    "冒号 : 的解释：如果只放置一个参数，如 [2]，将返回与该索引相对应的单个元素。如果为 [2:]，表示从该索引开始以后的所有项都将被提取。如果使用了两个参数，如 [2:7]，那么则提取两个索引(不包括停止索引)之间的项。"
   ]
  },
  {
   "cell_type": "code",
   "execution_count": 23,
   "metadata": {},
   "outputs": [
    {
     "name": "stdout",
     "output_type": "stream",
     "text": [
      "5\n",
      "[2 3 4 5 6 7 8 9]\n",
      "[2 3 4]\n"
     ]
    }
   ],
   "source": [
    "import numpy as np\n",
    " \n",
    "a = np.arange(10)  # [0 1 2 3 4 5 6 7 8 9] \n",
    "print(a[5])\n",
    "print(a[2:])\n",
    "print(a[2:5])"
   ]
  },
  {
   "cell_type": "raw",
   "metadata": {},
   "source": [
    "切片还可以包括省略号 …，来使选择元组的长度与数组的维度相同。 如果在行位置使用省略号，它将返回包含行中元素的 ndarray。"
   ]
  },
  {
   "cell_type": "code",
   "execution_count": 24,
   "metadata": {},
   "outputs": [
    {
     "name": "stdout",
     "output_type": "stream",
     "text": [
      "[[1 2 3]\n",
      " [4 5 6]\n",
      " [7 8 9]]\n",
      "[2 5 8]\n",
      "[4 5 6]\n",
      "[[2 3]\n",
      " [5 6]\n",
      " [8 9]]\n"
     ]
    }
   ],
   "source": [
    "import numpy as np\n",
    "a = np.array([[1,2,3],[4,5,6],[7,8,9]])  \n",
    "print (a)\n",
    "print (a[...,1])   # 第2列元素\n",
    "print (a[1,...])   # 第2行元素\n",
    "print (a[...,1:])  # 第2列及剩下的所有元素"
   ]
  },
  {
   "cell_type": "markdown",
   "metadata": {},
   "source": [
    "# 高级索引"
   ]
  },
  {
   "cell_type": "markdown",
   "metadata": {},
   "source": [
    "## 整数数组索引"
   ]
  },
  {
   "cell_type": "code",
   "execution_count": 25,
   "metadata": {},
   "outputs": [
    {
     "name": "stdout",
     "output_type": "stream",
     "text": [
      "[[1 2 3]\n",
      " [4 5 6]\n",
      " [7 8 9]]\n",
      "[1 5 7]\n"
     ]
    }
   ],
   "source": [
    "# 获取（0,0）（1,1）（2,0）位置的元素\n",
    "import numpy as np\n",
    "x = np.array([[1,2,3],[4,5,6],[7,8,9]])\n",
    "y = x[[0,1,2],[0,1,0]]\n",
    "print(x)\n",
    "print(y)"
   ]
  },
  {
   "cell_type": "code",
   "execution_count": 26,
   "metadata": {},
   "outputs": [
    {
     "name": "stdout",
     "output_type": "stream",
     "text": [
      "[[ 0  1  2]\n",
      " [ 3  4  5]\n",
      " [ 6  7  8]\n",
      " [ 9 10 11]]\n",
      "[[ 0  2]\n",
      " [ 9 11]]\n"
     ]
    }
   ],
   "source": [
    "# 获取顶点元素，行索引[0,0][3,3],列索引[0,2][0,2]\n",
    "import numpy as np\n",
    "x = np.array([[0,1,2],[3,4,5],[6,7,8],[9,10,11]])\n",
    "print(x)\n",
    "rows = np.array([[0,0],[3,3]])\n",
    "cols = np.array([[0,2],[0,2]])\n",
    "y = x[rows,cols]\n",
    "print(y)"
   ]
  },
  {
   "cell_type": "code",
   "execution_count": 27,
   "metadata": {},
   "outputs": [
    {
     "name": "stdout",
     "output_type": "stream",
     "text": [
      "[[1 2 3]\n",
      " [4 5 6]\n",
      " [7 8 9]]\n",
      "[[5 6]\n",
      " [8 9]]\n",
      "[[5 6]\n",
      " [8 9]]\n",
      "[[2 3]\n",
      " [5 6]\n",
      " [8 9]]\n"
     ]
    }
   ],
   "source": [
    "import numpy as np\n",
    "a = np.array([[1,2,3],[4,5,6],[7,8,9]])\n",
    "b = a[1:3, 1:3]\n",
    "c = a[1:3, [1,2]]\n",
    "d = a[..., 1:]\n",
    "print(a)\n",
    "print(b)\n",
    "print(c)\n",
    "print(d)"
   ]
  },
  {
   "cell_type": "markdown",
   "metadata": {},
   "source": [
    "## 布尔索引\n",
    "通过布尔运算（如：比较运算符）来获取符合指定条件的元素的数组。"
   ]
  },
  {
   "cell_type": "code",
   "execution_count": 28,
   "metadata": {},
   "outputs": [
    {
     "name": "stdout",
     "output_type": "stream",
     "text": [
      "[ 6  7  8  9 10 11]\n"
     ]
    }
   ],
   "source": [
    "# 获取大于5的元素\n",
    "import numpy as np\n",
    "x = np.array([[0,1,2],[3,4,5],[6,7,8],[9,10,11]])\n",
    "print(x[x > 5])"
   ]
  },
  {
   "cell_type": "code",
   "execution_count": 29,
   "metadata": {},
   "outputs": [
    {
     "name": "stdout",
     "output_type": "stream",
     "text": [
      "[1. 2. 4. 5.]\n"
     ]
    }
   ],
   "source": [
    "# 获取非NaN元素\n",
    "import numpy as np\n",
    "a = np.array([np.nan, 1, 2, np.nan, 4, 5])\n",
    "print(a[~np.isnan(a)])"
   ]
  },
  {
   "cell_type": "markdown",
   "metadata": {},
   "source": [
    "## 花式索引\n",
    "花式索引指的是利用整数数组进行索引。\n",
    "\n",
    "花式索引根据索引数组的值作为目标数组的某个轴的下标来取值。对于使用一维整型数组作为索引，如果目标是一维数组，那么索引的结果就是对应位置的元素；如果目标是二维数组，那么就是对应下标的行。\n",
    "\n",
    "花式索引跟切片不一样，它总是将数据复制到新数组中。"
   ]
  },
  {
   "cell_type": "code",
   "execution_count": 30,
   "metadata": {},
   "outputs": [
    {
     "name": "stdout",
     "output_type": "stream",
     "text": [
      "[[ 0  1  2  3]\n",
      " [ 4  5  6  7]\n",
      " [ 8  9 10 11]\n",
      " [12 13 14 15]\n",
      " [16 17 18 19]\n",
      " [20 21 22 23]\n",
      " [24 25 26 27]\n",
      " [28 29 30 31]]\n",
      "[[16 17 18 19]\n",
      " [ 8  9 10 11]\n",
      " [ 4  5  6  7]\n",
      " [28 29 30 31]]\n",
      "[[16 17 18 19]\n",
      " [24 25 26 27]\n",
      " [28 29 30 31]\n",
      " [ 4  5  6  7]]\n",
      "[[ 4  7  5  6]\n",
      " [20 23 21 22]\n",
      " [28 31 29 30]\n",
      " [ 8 11  9 10]]\n"
     ]
    }
   ],
   "source": [
    "import numpy as np\n",
    "x=np.arange(32).reshape((8,4))\n",
    "print(x)\n",
    "print(x[[4,2,1,7]]) #顺序索引数组\n",
    "print(x[[-4,-2,-1,-7]]) #倒序索引数组\n",
    "print(x[np.ix_([1,5,7,2],[0,3,1,2])]) #多个索引数组（要使用np.ix_）"
   ]
  },
  {
   "cell_type": "markdown",
   "metadata": {},
   "source": [
    "# 广播"
   ]
  },
  {
   "cell_type": "raw",
   "metadata": {},
   "source": [
    "广播(Broadcast)是 numpy 对不同形状(shape)的数组进行数值计算的方式，对数组的算术运算通常在相应的元素上进行。\n",
    "\n",
    "如果两个数组 a 和 b 形状相同，即满足 a.shape == b.shape，那么 a*b 的结果就是 a 与 b 数组对应位相乘。这要求维数相同，且各维度的长度相同。"
   ]
  },
  {
   "cell_type": "code",
   "execution_count": 31,
   "metadata": {},
   "outputs": [
    {
     "name": "stdout",
     "output_type": "stream",
     "text": [
      "[ 10  40  90 160]\n"
     ]
    }
   ],
   "source": [
    "import numpy as np \n",
    " \n",
    "a = np.array([1,2,3,4]) \n",
    "b = np.array([10,20,30,40]) \n",
    "c = a * b \n",
    "print (c)"
   ]
  },
  {
   "cell_type": "code",
   "execution_count": 32,
   "metadata": {},
   "outputs": [
    {
     "name": "stdout",
     "output_type": "stream",
     "text": [
      "[[ 1  2  3]\n",
      " [11 12 13]\n",
      " [21 22 23]\n",
      " [31 32 33]]\n"
     ]
    }
   ],
   "source": [
    "#运算数组形状不同时，自动触发广播机制\n",
    "import numpy as np \n",
    " \n",
    "a = np.array([[ 0, 0, 0],\n",
    "           [10,10,10],\n",
    "           [20,20,20],\n",
    "           [30,30,30]])\n",
    "b = np.array([1,2,3])\n",
    "print(a + b) #即a+np.tile(b,(4,1))"
   ]
  },
  {
   "cell_type": "markdown",
   "metadata": {},
   "source": [
    "**广播的规则:**\n",
    "\n",
    "- 让所有输入数组都向其中形状最长的数组看齐，形状中不足的部分都通过在前面加 1 补齐。\n",
    "- 输出数组的形状是输入数组形状的各个维度上的最大值。\n",
    "- 如果输入数组的某个维度和输出数组的对应维度的长度相同或者其长度为 1 时，这个数组能够用来计算，否则出错。\n",
    "- 当输入数组的某个维度的长度为 1 时，沿着此维度运算时都用此维度上的第一组值。\n",
    "\n",
    "**简单理解**：对两个数组，分别比较他们的每一个维度（若其中一个数组没有当前维度则忽略），满足：\n",
    "\n",
    "- 数组拥有相同形状。\n",
    "- 当前维度的值相等。\n",
    "- 当前维度的值有一个是 1。\n",
    "若条件不满足，抛出 **\"ValueError: frames are not aligned\"** 异常。"
   ]
  },
  {
   "cell_type": "markdown",
   "metadata": {},
   "source": [
    "# 迭代数组"
   ]
  },
  {
   "cell_type": "markdown",
   "metadata": {},
   "source": [
    "迭代器对象 numpy.nditer 提供了一种灵活访问一个或者多个数组元素的方式。\n",
    "\n",
    "迭代器最基本的任务的可以完成对数组元素的访问。"
   ]
  },
  {
   "cell_type": "code",
   "execution_count": 33,
   "metadata": {},
   "outputs": [
    {
     "name": "stdout",
     "output_type": "stream",
     "text": [
      "[[0 1 2]\n",
      " [3 4 5]]\n",
      "0, 1, 2, 3, 4, 5, "
     ]
    }
   ],
   "source": [
    "import numpy as np\n",
    "a = np.arange(6).reshape(2,3)\n",
    "print(a)\n",
    "for x in np.nditer(a):\n",
    "    print(x, end=\", \")"
   ]
  },
  {
   "cell_type": "markdown",
   "metadata": {},
   "source": [
    "### 控制遍历顺序\n",
    "- for x in np.nditer(a, order='F'):Fortran order，即是列序优先；\n",
    "- for x in np.nditer(a.T, order='C'):C order，即是行序优先；"
   ]
  },
  {
   "cell_type": "markdown",
   "metadata": {},
   "source": [
    "### 修改数组元素值\n",
    "nditer 对象有另一个可选参数 op_flags。 默认情况下，nditer 将视待迭代遍历的数组为只读对象（read-only），为了在遍历数组的同时，实现对数组元素值得修改，必须指定 read-write 或者 write-only 的模式。"
   ]
  },
  {
   "cell_type": "code",
   "execution_count": 34,
   "metadata": {},
   "outputs": [
    {
     "name": "stdout",
     "output_type": "stream",
     "text": [
      "原始数组是：\n",
      "[[ 0  5 10 15]\n",
      " [20 25 30 35]\n",
      " [40 45 50 55]]\n",
      "\n",
      "\n",
      "修改后的数组是：\n",
      "[[  0  10  20  30]\n",
      " [ 40  50  60  70]\n",
      " [ 80  90 100 110]]\n"
     ]
    }
   ],
   "source": [
    "import numpy as np\n",
    " \n",
    "a = np.arange(0,60,5) \n",
    "a = a.reshape(3,4)  \n",
    "print ('原始数组是：')\n",
    "print (a)\n",
    "print ('\\n')\n",
    "for x in np.nditer(a, op_flags=['readwrite']): \n",
    "    x[...]=2*x \n",
    "print ('修改后的数组是：')\n",
    "print (a)"
   ]
  },
  {
   "cell_type": "markdown",
   "metadata": {},
   "source": [
    "### 使用外部循环\n",
    "nditer类的构造器拥有flags参数，它可以接受下列值：\n",
    "- c_index\t可以跟踪 C 顺序的索引\n",
    "- f_index\t可以跟踪 Fortran 顺序的索引\n",
    "- multi-index\t每次迭代可以跟踪一种索引类型\n",
    "- external_loop\t给出的值是具有多个值的一维数组，而不是零维数组"
   ]
  },
  {
   "cell_type": "code",
   "execution_count": 35,
   "metadata": {},
   "outputs": [
    {
     "name": "stdout",
     "output_type": "stream",
     "text": [
      "原始数组是：\n",
      "[[ 0  5 10 15]\n",
      " [20 25 30 35]\n",
      " [40 45 50 55]]\n",
      "修改后的数组是：\n",
      "[ 0 20 40], [ 5 25 45], [10 30 50], [15 35 55], "
     ]
    }
   ],
   "source": [
    "# 遍历每列，合并为一维数组\n",
    "import numpy as np \n",
    "a = np.arange(0,60,5) \n",
    "a = a.reshape(3,4)  \n",
    "print ('原始数组是：')\n",
    "print (a)\n",
    "print ('修改后的数组是：')\n",
    "for x in np.nditer(a, flags =  ['external_loop'], order =  'F'):  \n",
    "   print (x, end=\", \" )"
   ]
  },
  {
   "cell_type": "markdown",
   "metadata": {},
   "source": [
    "### 广播迭代\n",
    "如果两个数组是可广播的，nditer 组合对象能够同时迭代它们。 假设数组a的维度为3X4，数组b的维度为 1X4 ，则使用以下迭代器（数组b被广播到a的大小）。"
   ]
  },
  {
   "cell_type": "code",
   "execution_count": 36,
   "metadata": {},
   "outputs": [
    {
     "name": "stdout",
     "output_type": "stream",
     "text": [
      "[[ 0  5 10 15]\n",
      " [20 25 30 35]\n",
      " [40 45 50 55]]\n",
      "[1 2 3 4]\n",
      "0:1, 5:2, 10:3, 15:4, 20:1, 25:2, 30:3, 35:4, 40:1, 45:2, 50:3, 55:4, "
     ]
    }
   ],
   "source": [
    "import numpy as np \n",
    "a = np.arange(0,60,5) \n",
    "a = a.reshape(3,4)  \n",
    "print (a)\n",
    "b = np.array([1,  2,  3,  4], dtype =  int)  \n",
    "print (b)\n",
    "for x,y in np.nditer([a,b]):  \n",
    "    print (\"%d:%d\"  %  (x,y), end=\", \" )"
   ]
  },
  {
   "cell_type": "markdown",
   "metadata": {},
   "source": [
    "# 数组操作\n",
    "处理数组的函数大致分类：\n",
    "- 修改数组形状\n",
    "- 翻转数组\n",
    "- 修改数组维度\n",
    "- 连接数组\n",
    "- 分割数组\n",
    "- 数组元素的添加与删除"
   ]
  },
  {
   "cell_type": "markdown",
   "metadata": {},
   "source": [
    "## 修改数组形状\n",
    "- reshape\t不改变数据的条件下修改形状\n",
    "- flat\t数组元素迭代器\n",
    "- flatten\t返回一份数组拷贝，对拷贝所做的修改不会影响原始数组\n",
    "- ravel\t返回展开数组\n",
    "\n",
    "### reshape\n",
    "可以在不改变数据的条件下修改形状\n",
    "\n",
    "```python\n",
    "numpy.reshape(arr, newshape, order='C')\n",
    "```\n",
    "\n",
    "- arr：要修改形状的数组\n",
    "- newshape：整数或者整数数组，新的形状应当兼容原有形状\n",
    "- order：'C' -- 按行，'F' -- 按列，'A' -- 原顺序，'k' -- 元素在内存中的出现顺序。\n",
    "\n",
    "```python\n",
    "import numpy as np\n",
    "a = np.arange(8)\n",
    "b = a.reshape(4,2)\n",
    "```\n",
    "\n",
    "### ndarray.flat\n",
    "是一个数组元素迭代器\n",
    "\n",
    "```python\n",
    "import numpy as np\n",
    "a = np.arange(9).reshape(3,3) \n",
    "print ('原始数组：')\n",
    "for row in a:\n",
    "    print (row)\n",
    "#对数组中每个元素都进行处理，可以使用flat属性，该属性是一个数组元素迭代器：\n",
    "print ('迭代后的数组：')\n",
    "for element in a.flat:\n",
    "    print (element)\n",
    "```\n",
    "\n",
    "### ndarray.flatten\n",
    "返回一份数组拷贝，对拷贝所做的修改不会影响原始数组\n",
    "\n",
    "```python\n",
    "ndarray.flatten(order='C')\n",
    "```\n",
    "\n",
    "- order：'C' -- 按行，'F' -- 按列，'A' -- 原顺序，'K' -- 元素在内存中的出现顺序。\n",
    "\n",
    "```python\n",
    "import numpy as np\n",
    "a = np.arange(8).reshape(2,4)\n",
    "print ('展开的数组：')\n",
    "print (a.flatten())\n",
    "print ('以 F 风格顺序展开的数组：')\n",
    "print (a.flatten(order = 'F'))\n",
    "```\n",
    "\n",
    "### ravel\n",
    "展平数组元素，顺序通常是\"C风格\"，返回的是数组视图（view，有点类似 C/C++引用reference的意味），修改会影响原始数组。\n",
    "\n",
    "```python\n",
    "numpy.ravel(a, order='C')\n",
    "```\n",
    "\n",
    "## 翻转数组\n",
    "\n",
    "- transpose\t对换数组的维度\n",
    "- ndarray.T\t和 self.transpose() 相同\n",
    "- rollaxis\t向后滚动指定的轴\n",
    "- swapaxes\t对换数组的两个轴\n",
    "\n",
    "numpy.transpose(arr, axes)\n",
    "\n",
    "- arr：要操作的数组\n",
    "- axes：整数列表，对应维度，通常所有维度都会对换。\n",
    "\n",
    "numpy.ndarray.T 类似 numpy.transpose 转置\n",
    "\n",
    "numpy.rollaxis(arr, axis, start)\n",
    "\n",
    "- arr：数组\n",
    "- axis：要向后滚动的轴，其它轴的相对位置不会改变\n",
    "- start：默认为零，表示完整的滚动。会滚动到特定位置。\n",
    "\n",
    "numpy.swapaxes(arr, axis1, axis2)\n",
    "\n",
    "- arr：输入的数组\n",
    "- axis1：对应第一个轴的整数\n",
    "- axis2：对应第二个轴的整数\n",
    "\n",
    "## 修改数组维度\n",
    "\n",
    "- broadcast\t产生模仿广播的对象\n",
    "- broadcast_to\t将数组广播到新形状\n",
    "- expand_dims\t扩展数组的形状\n",
    "- squeeze\t从数组的形状中删除一维条目\n",
    "\n",
    "broadcast\n",
    "\n",
    "broadcast_to(array, shape, subok)将数组广播到新形状。它在原始数组上返回只读视图\n",
    "\n",
    "expand_dims(arr, axis)通过在指定位置插入新的轴来扩展数组形状\n",
    "\n",
    "squeeze(arr, axis)从给定数组的形状中删除一维的条目\n",
    "\n",
    "## 连接数组\n",
    "\n",
    "- concatenate\t连接沿现有轴的数组序列\n",
    "- stack\t沿着新的轴加入一系列数组。\n",
    "- hstack\t水平堆叠序列中的数组（列方向）\n",
    "- vstack\t竖直堆叠序列中的数组（行方向）\n",
    "concatenate((a1, a2, ...), axis)用于沿指定轴连接相同形状的两个或多个数组\n",
    "\n",
    "stack(arrays, axis)用于沿新轴连接数组序列，堆叠\n",
    "\n",
    "numpy.hstack 是 numpy.stack 函数的变体，它通过水平堆叠来生成数组。类似concatenate\n",
    "\n",
    "numpy.vstack 是 numpy.stack 函数的变体，它通过垂直堆叠来生成数组。\n",
    "\n",
    "## 分割数组\n",
    "\n",
    "- split\t将一个数组分割为多个子数组\n",
    "- hsplit\t将一个数组水平分割为多个子数组（按列）\n",
    "- vsplit\t将一个数组垂直分割为多个子数组（按行）\n",
    "\n",
    "numpy.split(ary, indices_or_sections, axis)沿特定的轴将数组分割为子数组\n",
    "    - ary：被分割的数组\n",
    "    - indices_or_sections：果是一个整数，就用该数平均切分，如果是一个数组，为沿轴切分的位置（左开右闭）\n",
    "    - axis：沿着哪个维度进行切向，默认为0，横向切分。为1时，纵向切分\n",
    "    \n",
    "hsplit 函数用于水平分割数组，通过指定要返回的相同形状的数组数量来拆分原数组。\n",
    "\n",
    "vsplit 沿着垂直轴分割，其分割方式与hsplit用法相同。\n",
    "\n",
    "## 数组元素的添加与删除\n",
    "\n",
    "- resize\t返回指定形状的新数组\n",
    "- append\t将值添加到数组末尾\n",
    "- insert\t沿指定轴将值插入到指定下标之前\n",
    "- delete\t删掉某个轴的子数组，并返回删除后的新数组\n",
    "- unique\t查找数组内的唯一元素\n",
    "\n",
    "numpy.resize(arr, shape) 返回指定大小的新数组。如果新数组大小大于原始大小，则包含原始数组中的元素的副本。\n",
    "\n",
    "numpy.append(arr, values, axis=None)在数组的末尾添加值。 追加操作会分配整个数组，并把原来的数组复制到新数组中。 此外，输入数组的维度必须匹配否则将生成ValueError。append 函数返回的始终是一个一维数组。\n",
    "\n",
    "numpy.insert(arr, obj, values, axis)在给定索引之前，沿给定轴在输入数组中插入值。如果值的类型转换为要插入，则它与输入数组不同。 插入没有原地的，函数会返回一个新数组。 此外，如果未提供轴，则输入数组会被展开。\n",
    "\n",
    "numpy.delete(arr, obj, axis)返回从输入数组中删除指定子数组的新数组。 与 insert() 函数的情况一样，如果未提供轴参数，则输入数组将展开。\n",
    "\n",
    "numpy.unique(arr, return_index, return_inverse, return_counts)用于去除数组中的重复元素。"
   ]
  },
  {
   "cell_type": "markdown",
   "metadata": {},
   "source": [
    "# 位运算"
   ]
  },
  {
   "cell_type": "markdown",
   "metadata": {},
   "source": [
    "- bitwise_and\t对数组元素执行位与操作\n",
    "- bitwise_or\t对数组元素执行位或操作\n",
    "- invert\t按位取反\n",
    "- left_shift\t向左移动二进制表示的位\n",
    "- right_shift\t向右移动二进制表示的位\n",
    "\n",
    "**注：**也可以使用 \"&\"、 \"~\"、 \"|\" 和 \"^\" 等操作符进行计算。\n",
    "\n",
    "np.bitwise_or(13, 17)\n",
    "\n",
    "np.invert(np.array(\\[13\\], dtype = np.uint8))\n",
    "\n",
    "np.left_shift(10,2)\n",
    "\n",
    "np.binary_repr(10, width = 8)可以获取十进制数的二进制表示"
   ]
  },
  {
   "cell_type": "markdown",
   "metadata": {},
   "source": [
    "# 字符串函数"
   ]
  },
  {
   "cell_type": "markdown",
   "metadata": {},
   "source": [
    "以下函数用于对 dtype 为 numpy.string_ 或 numpy.unicode_ 的数组执行向量化字符串操作。 它们基于 Python 内置库中的标准字符串函数。\n",
    "\n",
    "这些函数在字符数组类（numpy.char）中定义。\n",
    "\n",
    "- add()\t对两个数组的逐个字符串元素进行连接\n",
    "- multiply()\t返回按元素多重连接后的字符串\n",
    "- center()\t居中字符串\n",
    "- capitalize()\t将字符串第一个字母转换为大写\n",
    "- title()\t将字符串的每个单词的第一个字母转换为大写\n",
    "- lower()\t数组元素转换为小写\n",
    "- upper()\t数组元素转换为大写\n",
    "- split()\t指定分隔符对字符串进行分割，并返回数组列表\n",
    "- splitlines()\t返回元素中的行列表，以换行符分割\n",
    "- strip()\t移除元素开头或者结尾处的特定字符\n",
    "- join()\t通过指定分隔符来连接数组中的元素\n",
    "- replace()\t使用新字符串替换字符串中的所有子字符串\n",
    "- decode()\t数组元素依次调用str.decode\n",
    "- encode()\t数组元素依次调用str.encode"
   ]
  },
  {
   "cell_type": "markdown",
   "metadata": {},
   "source": [
    "# 数学函数"
   ]
  },
  {
   "cell_type": "markdown",
   "metadata": {},
   "source": [
    "## 三角函数\n",
    "\n",
    "np.degrees(x) 可以转换为角度制\n",
    "\n",
    "## 舍入函数\n",
    "\n",
    "numpy.around(a,decimals) 四舍五入，dec 为小数位数\n",
    "\n",
    "numpy.floor() 返回数字的下舍整数。\n",
    "\n",
    "numpy.ceil() 返回数字的上入整数。"
   ]
  },
  {
   "cell_type": "markdown",
   "metadata": {},
   "source": [
    "# 算数函数"
   ]
  },
  {
   "cell_type": "markdown",
   "metadata": {},
   "source": [
    "加减乘除: add()，subtract()，multiply() 和 divide()。需要注意的是数组必须具有相同的形状或符合数组广播规则。\n",
    "\n",
    "numpy.reciprocal() 函数返回参数逐元素的倒数。如 1/4 倒数为 4/1。\n",
    "\n",
    "numpy.power() 函数将第一个输入数组中的元素作为底数，计算它与第二个输入数组中相应元素的幂。\n",
    "\n",
    "numpy.mod() 计算输入数组中相应元素的相除后的余数。 函数 numpy.remainder() 也产生相同的结果。"
   ]
  },
  {
   "cell_type": "markdown",
   "metadata": {},
   "source": [
    "# 统计函数"
   ]
  },
  {
   "cell_type": "markdown",
   "metadata": {},
   "source": [
    "numpy.amin() 用于计算数组中的元素沿指定轴的最小值。\n",
    "\n",
    "numpy.amax() 用于计算数组中的元素沿指定轴的最大值。\n",
    "\n",
    "numpy.ptp()函数计算数组中元素最大值与最小值的差（最大值 - 最小值）。\n",
    "\n",
    "numpy.percentile(a, q, axis)百分位数是统计中使用的度量，表示小于这个值的观察值的百分比。 a: 输入数组，q: 要计算的百分位数，在 0 ~ 100 之间，axis: 沿着它计算百分位数的轴\n",
    "\n",
    "numpy.median() 函数用于计算数组 a 中元素的中位数（中值）\n",
    "\n",
    "numpy.mean() 函数返回数组中元素的算术平均值。 如果提供了轴，则沿其计算。\n",
    "\n",
    "numpy.average()函数根据在另一个数组中给出的各自的权重计算数组中元素的加权平均值。该函数可以接受一个轴参数。 如果没有指定轴，则数组会被展开。\n",
    "\n",
    "numpy.std()标准差\n",
    "\n",
    "numpy.var()方差"
   ]
  },
  {
   "cell_type": "markdown",
   "metadata": {},
   "source": [
    "# 排序、条件刷选函数"
   ]
  },
  {
   "cell_type": "markdown",
   "metadata": {},
   "source": [
    "numpy.sort() 函数返回输入数组的排序副本。函数格式如下：\n",
    "\n",
    "numpy.sort(a, axis, kind, order)\n",
    "参数说明：\n",
    "\n",
    "a: 要排序的数组\n",
    "axis: 沿着它排序数组的轴，如果没有数组会被展开，沿着最后的轴排序， axis=0 按列排序，axis=1 按行排序\n",
    "kind: 默认为'quicksort'（快速排序）\n",
    "order: 如果数组包含字段，则是要排序的字段\n",
    "\n",
    "---\n",
    "\n",
    "numpy.argsort() 函数返回的是数组值从小到大的索引值。\n",
    "\n",
    "---\n",
    "\n",
    "numpy.lexsort() 用于对多个序列进行排序。\n",
    "\n",
    "---\n",
    "\n",
    "msort(a)\t数组按第一个轴排序，返回排序后的数组副本。np.msort(a) 相等于 np.sort(a, axis=0)。\n",
    "sort_complex(a)\t对复数按照先实部后虚部的顺序进行排序。\n",
    "partition(a, kth\\[, axis, kind, order\\])\t指定一个数，对数组进行分区\n",
    "argpartition(a, kth\\[, axis, kind, order\\])\t可以通过关键字 kind 指定算法沿着指定轴对数组进行分区\n",
    "\n",
    "---\n",
    "\n",
    "numpy.argmax() 和 numpy.argmin()\n",
    "numpy.argmax() 和 numpy.argmin()函数分别沿给定轴返回最大和最小元素的索引。\n",
    "\n",
    "---\n",
    "\n",
    "numpy.nonzero() 函数返回输入数组中非零元素的索引。\n",
    "\n",
    "numpy.where() 函数返回输入数组中满足给定条件的元素的索引。\n",
    "\n",
    "numpy.extract() 函数根据某个条件从数组中抽取元素，返回满条件的元素。"
   ]
  },
  {
   "cell_type": "markdown",
   "metadata": {},
   "source": [
    "# 字节交换"
   ]
  },
  {
   "cell_type": "markdown",
   "metadata": {},
   "source": [
    "numpy.ndarray.byteswap()函数将 ndarray 中每个元素中的字节进行大小端转换。"
   ]
  },
  {
   "cell_type": "markdown",
   "metadata": {},
   "source": [
    "# 副本和视图\n",
    "副本是一个数据的完整的拷贝，如果我们对副本进行修改，它不会影响到原始数据，物理内存不在同一位置。\n",
    "\n",
    "视图是数据的一个别称或引用，通过该别称或引用亦便可访问、操作原有数据，但原有数据不会产生拷贝。如果我们对视图进行修改，它会影响到原始数据，物理内存在同一位置。\n",
    "\n",
    "视图一般发生在：\n",
    "\n",
    "1、numpy 的切片操作返回原数据的视图。\n",
    "2、调用 ndarray 的 view() 函数产生一个视图。\n",
    "副本一般发生在：\n",
    "\n",
    "Python 序列的切片操作，调用deepCopy()函数。\n",
    "调用 ndarray 的 copy() 函数产生一个副本。\n",
    "\n",
    "- b = a 对b的修改会反映在a上\n",
    "- b = a.view() 视图或浅拷贝，修改b的shape不影响a，但使用切片创建视图会影响原数组\n",
    "- b = a.copy() 副本或深拷贝，二者互不影响"
   ]
  },
  {
   "cell_type": "markdown",
   "metadata": {},
   "source": [
    "# 矩阵库"
   ]
  },
  {
   "cell_type": "markdown",
   "metadata": {},
   "source": [
    "需要import numpy.matlib\n",
    "\n",
    "numpy.matlib.empty(shape, dtype, order)随机填充\n",
    "\n",
    "numpy.matlib.zeros() 函数创建一个以 0 填充的矩阵。\n",
    "\n",
    "numpy.matlib.ones()函数创建一个以 1 填充的矩阵。\n",
    "\n",
    "numpy.matlib.eye() 函数返回一个矩阵，对角线元素为 1，其他位置为零。\n",
    "\n",
    "numpy.matlib.identity() 函数返回给定大小的单位矩阵。\n",
    "\n",
    "numpy.matlib.rand() 函数创建一个给定大小的矩阵，数据是随机填充的。"
   ]
  },
  {
   "cell_type": "markdown",
   "metadata": {},
   "source": [
    "# 线性函数"
   ]
  },
  {
   "cell_type": "markdown",
   "metadata": {},
   "source": [
    "numpy.dot(a, b, out=None) 于两个一维的数组，计算的是这两个数组对应下标元素的乘积和(数学上称之为内积)；对于二维数组，计算的是两个数组的矩阵乘积；对于多维数组，它的通用计算公式如下，即结果数组中的每个元素都是：数组a的最后一维上的所有元素与数组b的倒数第二位上的所有元素的乘积和： dot(a, b)\\[i,j,k,m\\] = sum(a\\[i,j,:\\] * b\\[k,:,m\\])。\n",
    "\n",
    "numpy.vdot() 函数是两个向量的点积。 如果第一个参数是复数，那么它的共轭复数会用于计算。 如果参数是多维数组，它会被展开。\n",
    "\n",
    "numpy.inner() 函数返回一维数组的向量内积。对于更高的维度，它返回最后一个轴上的和的乘积。\n",
    "\n",
    "numpy.matmul 函数返回两个数组的矩阵乘积。 虽然它返回二维数组的正常乘积，但如果任一参数的维数大于2，则将其视为存在于最后两个索引的矩阵的栈，并进行相应广播。另一方面，如果任一参数是一维数组，则通过在其维度上附加 1 来将其提升为矩阵，并在乘法之后被去除。对于二维数组，它就是矩阵乘法\n",
    "\n",
    "numpy.linalg.det() 函数计算输入矩阵的行列式。\n",
    "\n",
    "numpy.linalg.solve() 函数给出了矩阵形式的线性方程的解。\n",
    "\n",
    "numpy.linalg.inv() 函数计算矩阵的乘法逆矩阵。"
   ]
  },
  {
   "cell_type": "markdown",
   "metadata": {},
   "source": [
    "# IO"
   ]
  },
  {
   "cell_type": "markdown",
   "metadata": {},
   "source": [
    "Numpy 可以读写磁盘上的文本数据或二进制数据。\n",
    "\n",
    "NumPy 为 ndarray 对象引入了一个简单的文件格式：npy。\n",
    "\n",
    "npy 文件用于存储重建 ndarray 所需的数据、图形、dtype 和其他信息。\n",
    "\n",
    "常用的 IO 函数有：\n",
    "\n",
    "- load() 和 save() 函数是读写文件数组数据的两个主要函数，默认情况下，数组是以未压缩的原始二进制格式保存在扩展名为 .npy 的文件中。\n",
    "- savze() 函数用于将多个数组写入文件，默认情况下，数组是以未压缩的原始二进制格式保存在扩展名为 .npz 的文件中。\n",
    "- loadtxt() 和 savetxt() 函数处理正常的文本文件(.txt 等)\n",
    "\n",
    "numpy.save(file, arr, allow_pickle=True, fix_imports=True)将数组保存到以 .npy 为扩展名的文件中。\n",
    "\n",
    "使用 load() 函数来读取数据\n",
    "\n",
    "---\n",
    "\n",
    "numpy.savez(file, \\*args, \\*\\*kwds)函数将多个数组保存到以 npz 为扩展名的文件中。\n",
    "\n",
    "---\n",
    "\n",
    "savetxt() 函数是以简单的文本文件格式存储数据，对应的使用 loadtxt() 函数来获取数据。\n",
    "\n",
    "np.loadtxt(FILENAME, dtype=int, delimiter=' ')\n",
    "\n",
    "np.savetxt(FILENAME, a, fmt=\"%d\", delimiter=\",\")\n"
   ]
  }
 ],
 "metadata": {
  "kernelspec": {
   "display_name": "Python 3",
   "language": "python",
   "name": "python3"
  },
  "language_info": {
   "codemirror_mode": {
    "name": "ipython",
    "version": 3
   },
   "file_extension": ".py",
   "mimetype": "text/x-python",
   "name": "python",
   "nbconvert_exporter": "python",
   "pygments_lexer": "ipython3",
   "version": "3.6.8"
  }
 },
 "nbformat": 4,
 "nbformat_minor": 2
}
