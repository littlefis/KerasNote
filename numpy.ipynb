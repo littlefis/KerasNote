{
 "cells": [
  {
   "cell_type": "markdown",
   "metadata": {},
   "source": [
    "# numpy ndarray 对象"
   ]
  },
  {
   "cell_type": "markdown",
   "metadata": {},
   "source": [
    "ndarray是用于存放同类型元素的多维数组，下标以0为开始。\n",
    "```python\n",
    "numpy.array(object, dtype = None, copy = True, order = None, subok = False, ndmin = 0)\n",
    "```\n",
    "object\t数组或嵌套的数列\n",
    "dtype\t数组元素的数据类型，可选\n",
    "copy\t对象是否需要复制，可选\n",
    "order\t创建数组的样式，C为行方向，F为列方向，A为任意方向（默认）\n",
    "subok\t默认返回一个与基类类型一致的数组\n",
    "ndmin\t指定生成数组的最小维度"
   ]
  },
  {
   "cell_type": "code",
   "execution_count": 1,
   "metadata": {},
   "outputs": [
    {
     "name": "stdout",
     "output_type": "stream",
     "text": [
      "[1 2 3]\n"
     ]
    }
   ],
   "source": [
    "import numpy as np\n",
    "a = np.array([1, 2, 3])\n",
    "print(a)"
   ]
  },
  {
   "cell_type": "code",
   "execution_count": 2,
   "metadata": {},
   "outputs": [
    {
     "name": "stdout",
     "output_type": "stream",
     "text": [
      "[[1 2]\n",
      " [3 4]]\n"
     ]
    }
   ],
   "source": [
    "import numpy as np\n",
    "a = np.array([[1, 2], [3, 4]])\n",
    "print(a)"
   ]
  },
  {
   "cell_type": "code",
   "execution_count": 3,
   "metadata": {},
   "outputs": [
    {
     "name": "stdout",
     "output_type": "stream",
     "text": [
      "[[1 2 3]]\n"
     ]
    }
   ],
   "source": [
    "# ndmin\n",
    "import numpy as np\n",
    "a = np.array([1, 2, 3], ndmin = 2)\n",
    "print(a)"
   ]
  },
  {
   "cell_type": "code",
   "execution_count": 4,
   "metadata": {},
   "outputs": [
    {
     "name": "stdout",
     "output_type": "stream",
     "text": [
      "[ 1.+0.j  2.+0.j  3.+0.j]\n"
     ]
    }
   ],
   "source": [
    "# dtype\n",
    "import numpy as np\n",
    "a = np.array([1, 2, 3], dtype = complex)\n",
    "print(a)"
   ]
  },
  {
   "cell_type": "markdown",
   "metadata": {},
   "source": [
    "# numpy 数据类型"
   ]
  },
  {
   "cell_type": "raw",
   "metadata": {},
   "source": [
    "bool_\t布尔型数据类型（True 或者 False）\n",
    "int_\t默认的整数类型（类似于 C 语言中的 long，int32 或 int64）\n",
    "intc\t与 C 的 int 类型一样，一般是 int32 或 int 64\n",
    "intp\t用于索引的整数类型（类似于 C 的 ssize_t，一般情况下仍然是 int32 或 int64）\n",
    "int8\t字节（-128 to 127）\n",
    "int16\t整数（-32768 to 32767）\n",
    "int32\t整数（-2147483648 to 2147483647）\n",
    "int64\t整数（-9223372036854775808 to 9223372036854775807）\n",
    "uint8\t无符号整数（0 to 255）\n",
    "uint16\t无符号整数（0 to 65535）\n",
    "uint32\t无符号整数（0 to 4294967295）\n",
    "uint64\t无符号整数（0 to 18446744073709551615）\n",
    "float_\tfloat64 类型的简写\n",
    "float16\t半精度浮点数，包括：1 个符号位，5 个指数位，10 个尾数位\n",
    "float32\t单精度浮点数，包括：1 个符号位，8 个指数位，23 个尾数位\n",
    "float64\t双精度浮点数，包括：1 个符号位，11 个指数位，52 个尾数位\n",
    "complex_\tcomplex128 类型的简写，即 128 位复数\n",
    "complex64\t复数，表示双 32 位浮点数（实数部分和虚数部分）\n",
    "complex128\t复数，表示双 64 位浮点数（实数部分和虚数部分）\n",
    "numpy 的数值类型实际上是 dtype 对象的实例，并对应唯一的字符，包括 np.bool_，np.int32，np.float32，等等。"
   ]
  },
  {
   "cell_type": "raw",
   "metadata": {},
   "source": [
    "内建类型：\n",
    "b\t布尔型\n",
    "i\t(有符号) 整型\n",
    "u\t无符号整型 integer\n",
    "f\t浮点型\n",
    "c\t复数浮点型\n",
    "m\ttimedelta（时间间隔）\n",
    "M\tdatetime（日期时间）\n",
    "O\t(Python) 对象\n",
    "S, a\t(byte-)字符串\n",
    "U\tUnicode\n",
    "V\t原始数据 (void)"
   ]
  },
  {
   "cell_type": "markdown",
   "metadata": {},
   "source": [
    "# numpy 数组属性"
   ]
  },
  {
   "cell_type": "raw",
   "metadata": {},
   "source": [
    "数组维数为秩，每个线性数组称为一个轴，即维度，例如二维数组是两个一位数组，其中第一个一维数组的每个元素均为一个一维数组。第一个轴是底层数组，第二个轴是底层数组里的数组。\n",
    "通过声明axis可以指定轴，axis=0表示沿着第0轴，即对列进行操作，axis=1表示沿着第1轴，即对行进行操作。\n",
    "常见属性：\n",
    "ndarray.ndim\t秩，即轴的数量或维度的数量\n",
    "ndarray.shape\t数组的维度，对于矩阵，n 行 m 列\n",
    "ndarray.size\t数组元素的总个数，相当于 .shape 中 n*m 的值\n",
    "ndarray.dtype\tndarray 对象的元素类型\n",
    "ndarray.itemsize\tndarray 对象中每个元素的大小，以字节为单位\n",
    "ndarray.flags\tndarray 对象的内存信息\n",
    "ndarray.real\tndarray元素的实部\n",
    "ndarray.imag\tndarray 元素的虚部\n",
    "ndarray.data\t包含实际数组元素的缓冲区，由于一般通过数组的索引获取元素，所以通常不需要使用这个属性。"
   ]
  },
  {
   "cell_type": "code",
   "execution_count": 5,
   "metadata": {},
   "outputs": [
    {
     "name": "stdout",
     "output_type": "stream",
     "text": [
      "1\n",
      "3\n"
     ]
    }
   ],
   "source": [
    "# ndim\n",
    "# 返回数组的秩\n",
    "import numpy as np\n",
    "a = np.arange(24)\n",
    "print(a.ndim)\n",
    "a = a.reshape(2, 4, 3)\n",
    "print(a.ndim)"
   ]
  },
  {
   "cell_type": "code",
   "execution_count": 6,
   "metadata": {},
   "outputs": [
    {
     "name": "stdout",
     "output_type": "stream",
     "text": [
      "[[1 2 3]\n",
      " [4 5 6]]\n",
      "(2, 3) \n",
      "--------\n",
      "[[1 2]\n",
      " [3 4]\n",
      " [5 6]]\n",
      "(3, 2)\n"
     ]
    }
   ],
   "source": [
    "# shape\n",
    "# 返回元组，代表数组的形状\n",
    "import numpy as np\n",
    "a = np.array([[1, 2, 3], [4, 5, 6]])\n",
    "print(a)\n",
    "print(a.shape, '\\n--------')\n",
    "# shape属性可以用于调整数组形状，效果等同于reshape\n",
    "a.shape = (3, 2) #a = a.reshape(3, 2)\n",
    "print(a)\n",
    "print(a.shape)"
   ]
  },
  {
   "cell_type": "code",
   "execution_count": 7,
   "metadata": {},
   "outputs": [
    {
     "name": "stdout",
     "output_type": "stream",
     "text": [
      "1\n",
      "8\n"
     ]
    }
   ],
   "source": [
    "# itemsize\n",
    "# 以字节形式返回数组中每个元素的大小\n",
    "import numpy as np \n",
    "# 数组的 dtype 为 int8（一个字节）  \n",
    "x = np.array([1,2,3,4,5], dtype = np.int8)  \n",
    "print(x.itemsize)\n",
    "# 数组的 dtype 现在为 float64（八个字节） \n",
    "y = np.array([1,2,3,4,5], dtype = np.float64)  \n",
    "print(y.itemsize)"
   ]
  },
  {
   "cell_type": "code",
   "execution_count": 8,
   "metadata": {
    "collapsed": true
   },
   "outputs": [],
   "source": [
    "# flags\n",
    "# 返回ndarray对象的内存信息"
   ]
  },
  {
   "cell_type": "raw",
   "metadata": {},
   "source": [
    "C_CONTIGUOUS (C)\t数据是在一个单一的C风格的连续段中\n",
    "F_CONTIGUOUS (F)\t数据是在一个单一的Fortran风格的连续段中\n",
    "OWNDATA (O)\t数组拥有它所使用的内存或从另一个对象中借用它\n",
    "WRITEABLE (W)\t数据区域可以被写入，将该值设置为 False，则数据为只读\n",
    "ALIGNED (A)\t数据和所有元素都适当地对齐到硬件上\n",
    "UPDATEIFCOPY (U)\t这个数组是其它数组的一个副本，当这个数组被释放时，原数组的内容将被更新"
   ]
  },
  {
   "cell_type": "code",
   "execution_count": 9,
   "metadata": {},
   "outputs": [
    {
     "name": "stdout",
     "output_type": "stream",
     "text": [
      "  C_CONTIGUOUS : True\n",
      "  F_CONTIGUOUS : True\n",
      "  OWNDATA : True\n",
      "  WRITEABLE : True\n",
      "  ALIGNED : True\n",
      "  UPDATEIFCOPY : False\n"
     ]
    }
   ],
   "source": [
    "import numpy as np \n",
    "x = np.array([1,2,3,4,5])  \n",
    "print (x.flags)"
   ]
  },
  {
   "cell_type": "markdown",
   "metadata": {},
   "source": [
    "# numpy 创建数组\n",
    "除底层ndarray构造器外，还可以通过以下几种方式来创建"
   ]
  },
  {
   "cell_type": "markdown",
   "metadata": {},
   "source": [
    "## empty\n",
    "创建指定形状、数据类型且未初始化的数组\n",
    "```python\n",
    "numpy.empty(shape, dtype = float, order = 'C')\n",
    "```\n",
    "- shape：数组形状\n",
    "- dtype：数据类型，可选\n",
    "- order：有\"C\"和\"F\"两个选项,分别代表，行优先和列优先，在计算机内存中的存储元素的顺序。"
   ]
  },
  {
   "cell_type": "code",
   "execution_count": 10,
   "metadata": {},
   "outputs": [
    {
     "name": "stdout",
     "output_type": "stream",
     "text": [
      "[[         0 1072693248]\n",
      " [         0 1073741824]\n",
      " [         0 1074266112]]\n"
     ]
    }
   ],
   "source": [
    "import numpy as np\n",
    "x = np.empty([3, 2], dtype = int)\n",
    "print(x)"
   ]
  },
  {
   "cell_type": "markdown",
   "metadata": {},
   "source": [
    "## zeros\n",
    "创建指定大小，全0数组\n",
    "```python\n",
    "numpy.zeros(shape, dtype = float, order = 'C')\n",
    "```"
   ]
  },
  {
   "cell_type": "code",
   "execution_count": 11,
   "metadata": {},
   "outputs": [
    {
     "name": "stdout",
     "output_type": "stream",
     "text": [
      "[ 0.  0.  0.  0.  0.]\n",
      "[0 0 0 0 0]\n",
      "[[(0, 0) (0, 0)]\n",
      " [(0, 0) (0, 0)]]\n"
     ]
    }
   ],
   "source": [
    "import numpy as np\n",
    " \n",
    "# 默认为浮点数\n",
    "x = np.zeros(5) \n",
    "print(x)\n",
    " \n",
    "# 设置类型为整数\n",
    "y = np.zeros((5,), dtype = np.int) \n",
    "print(y)\n",
    " \n",
    "# 自定义类型\n",
    "z = np.zeros((2,2), dtype = [('x', 'i4'), ('y', 'i4')])  \n",
    "print(z)"
   ]
  },
  {
   "cell_type": "markdown",
   "metadata": {},
   "source": [
    "## ones\n",
    "创建指定大小，全1数组\n",
    "```python\n",
    "numpy.ones(shape, dtype = None, order = 'C')\n",
    "```"
   ]
  },
  {
   "cell_type": "code",
   "execution_count": 12,
   "metadata": {},
   "outputs": [
    {
     "name": "stdout",
     "output_type": "stream",
     "text": [
      "[ 1.  1.  1.  1.  1.]\n",
      "[[1 1]\n",
      " [1 1]]\n"
     ]
    }
   ],
   "source": [
    "import numpy as np\n",
    " \n",
    "# 默认为浮点数\n",
    "x = np.ones(5) \n",
    "print(x)\n",
    " \n",
    "# 自定义类型\n",
    "x = np.ones([2,2], dtype = int)\n",
    "print(x)"
   ]
  },
  {
   "cell_type": "markdown",
   "metadata": {},
   "source": [
    "# 从已有数组创建数组"
   ]
  },
  {
   "cell_type": "markdown",
   "metadata": {},
   "source": [
    "## asarray\n",
    "```python\n",
    "numpy.asarray(a, dtype = None, order = None)\n",
    "```\n",
    "- a\t任意形式的输入参数，可以是，列表, 列表的元组, 元组, 元组的元组, 元组的列表，多维数组\n",
    "- dtype\t数据类型，可选\n",
    "- order\t可选，有\"C\"和\"F\"两个选项,分别代表，行优先和列优先，在计算机内存中的存储元素的顺序。"
   ]
  },
  {
   "cell_type": "code",
   "execution_count": null,
   "metadata": {
    "collapsed": true
   },
   "outputs": [],
   "source": []
  }
 ],
 "metadata": {
  "kernelspec": {
   "display_name": "Python 3",
   "language": "python",
   "name": "python3"
  },
  "language_info": {
   "codemirror_mode": {
    "name": "ipython",
    "version": 3
   },
   "file_extension": ".py",
   "mimetype": "text/x-python",
   "name": "python",
   "nbconvert_exporter": "python",
   "pygments_lexer": "ipython3",
   "version": "3.6.3"
  }
 },
 "nbformat": 4,
 "nbformat_minor": 2
}
